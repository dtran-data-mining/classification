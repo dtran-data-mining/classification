{
 "cells": [
  {
   "cell_type": "code",
   "execution_count": 47,
   "metadata": {},
   "outputs": [],
   "source": [
    "import numpy as np\n",
    "import pandas as pd"
   ]
  },
  {
   "cell_type": "code",
   "execution_count": 83,
   "metadata": {},
   "outputs": [
    {
     "name": "stdout",
     "output_type": "stream",
     "text": [
      "<class 'pandas.core.frame.DataFrame'>\n",
      "RangeIndex: 135 entries, 0 to 134\n",
      "Data columns (total 6 columns):\n",
      " #   Column         Non-Null Count  Dtype  \n",
      "---  ------         --------------  -----  \n",
      " 0   Id             135 non-null    int64  \n",
      " 1   SepalLengthCm  135 non-null    float64\n",
      " 2   SepalWidthCm   135 non-null    float64\n",
      " 3   PetalLengthCm  135 non-null    float64\n",
      " 4   PetalWidthCm   135 non-null    float64\n",
      " 5   Labels         135 non-null    object \n",
      "dtypes: float64(4), int64(1), object(1)\n",
      "memory usage: 6.5+ KB\n",
      "None\n"
     ]
    }
   ],
   "source": [
    "K = 30\n",
    "\n",
    "train_df = pd.read_csv('./KNN/KNN_train.csv')\n",
    "print(train_df.info())"
   ]
  },
  {
   "cell_type": "code",
   "execution_count": 49,
   "metadata": {},
   "outputs": [
    {
     "name": "stdout",
     "output_type": "stream",
     "text": [
      "     SepalLengthCm  SepalWidthCm  PetalLengthCm  PetalWidthCm          Labels\n",
      "0              5.0           3.5            1.4          0.20     Iris-setosa\n",
      "1              4.9           3.1            1.3          0.21     Iris-setosa\n",
      "2              4.7           3.2            1.3          0.20     Iris-setosa\n",
      "3              4.6           3.1            1.5          0.22     Iris-setosa\n",
      "4              5.0           3.6            1.4          0.21     Iris-setosa\n",
      "..             ...           ...            ...           ...             ...\n",
      "130            6.7           3.1            5.6          2.40  Iris-virginica\n",
      "131            6.9           3.1            5.1          2.30  Iris-virginica\n",
      "132            5.8           2.7            5.1          1.90  Iris-virginica\n",
      "133            6.8           3.2            5.9          2.30  Iris-virginica\n",
      "134            6.7           3.3            5.7          2.50  Iris-virginica\n",
      "\n",
      "[135 rows x 5 columns]\n"
     ]
    }
   ],
   "source": [
    "# exclude Id row since pandas df has automatic indexing\n",
    "train_x_df = train_df.iloc[:, 1:]\n",
    "print(train_x_df)"
   ]
  },
  {
   "cell_type": "code",
   "execution_count": 50,
   "metadata": {},
   "outputs": [],
   "source": [
    "# Euclidean distance compute method\n",
    "def calc_dist(p, q):\n",
    "   return np.linalg.norm(q - p)\n",
    "\n",
    "# main method for calculating KNN, following algorithm\n",
    "def knn(K, x, q):\n",
    "   # calculate distances to neighbors (all other data rows)\n",
    "   neighbor_distances = x.apply(lambda x_i, q, cols: calc_dist(\n",
    "       x_i.iloc[:cols], q), axis=1, q=q, cols=x.shape[1]-1)\n",
    "   \n",
    "   # sort neighbor distances in ascending order and keep K neighbors\n",
    "   k_nearest_distances = neighbor_distances.sort_values().iloc[:K]\n",
    "   k_nearest_neighbors = x.filter(items=k_nearest_distances.index.to_list(), axis=0)\n",
    "   \n",
    "   # obtain the most common label among K nearest neighbors\n",
    "   return k_nearest_neighbors['Labels'].mode().max()"
   ]
  },
  {
   "cell_type": "code",
   "execution_count": 51,
   "metadata": {},
   "outputs": [
    {
     "name": "stdout",
     "output_type": "stream",
     "text": [
      "   SepalLengthCm  SepalWidthCm  PetalLengthCm  PetalWidthCm\n",
      "0            4.8           3.0            1.4           0.3\n",
      "1            5.1           3.8            1.6           0.2\n",
      "2            5.7           3.0            4.2           1.2\n",
      "3            5.7           2.9            4.2           1.3\n",
      "4            6.7           3.0            5.2           2.3\n",
      "5            6.3           2.5            5.0           1.9\n",
      "0        Iris-setosa\n",
      "1        Iris-setosa\n",
      "2    Iris-versicolor\n",
      "3    Iris-versicolor\n",
      "4     Iris-virginica\n",
      "5     Iris-virginica\n",
      "Name: Labels, dtype: object\n"
     ]
    }
   ],
   "source": [
    "valid_df = pd.read_csv('./KNN/KNN_valid.csv')\n",
    "valid_x_df = valid_df.iloc[:, 1:valid_df.shape[1]-1]\n",
    "valid_y_df = valid_df.loc[:, 'Labels']\n",
    "print(valid_x_df)\n",
    "print(valid_y_df)"
   ]
  },
  {
   "cell_type": "code",
   "execution_count": 52,
   "metadata": {},
   "outputs": [
    {
     "name": "stdout",
     "output_type": "stream",
     "text": [
      "0        Iris-setosa\n",
      "1        Iris-setosa\n",
      "2    Iris-versicolor\n",
      "3    Iris-versicolor\n",
      "4     Iris-virginica\n",
      "5     Iris-virginica\n",
      "dtype: object\n",
      "True\n"
     ]
    }
   ],
   "source": [
    "# use validation data to calculate experimental labels\n",
    "valid_y_exp_df = valid_x_df.apply(lambda valid_x_i, train_x_df: knn(\n",
    "    K, train_x_df, valid_x_i), axis=1, train_x_df=train_x_df)\n",
    "print(valid_y_exp_df)\n",
    "\n",
    "# confirm that the experimental labels match the actual labels\n",
    "print(valid_y_exp_df.equals(valid_y_df))"
   ]
  },
  {
   "cell_type": "code",
   "execution_count": 53,
   "metadata": {},
   "outputs": [
    {
     "name": "stdout",
     "output_type": "stream",
     "text": [
      "<class 'pandas.core.frame.DataFrame'>\n",
      "RangeIndex: 10 entries, 0 to 9\n",
      "Data columns (total 6 columns):\n",
      " #   Column         Non-Null Count  Dtype  \n",
      "---  ------         --------------  -----  \n",
      " 0   Id             10 non-null     int64  \n",
      " 1   SepalLengthCm  10 non-null     float64\n",
      " 2   SepalWidthCm   10 non-null     float64\n",
      " 3   PetalLengthCm  10 non-null     float64\n",
      " 4   PetalWidthCm   10 non-null     float64\n",
      " 5   Labels         10 non-null     object \n",
      "dtypes: float64(4), int64(1), object(1)\n",
      "memory usage: 608.0+ bytes\n",
      "None\n"
     ]
    }
   ],
   "source": [
    "test_df = pd.read_csv('./KNN/KNN_test.csv')\n",
    "print(test_df.info())"
   ]
  },
  {
   "cell_type": "code",
   "execution_count": 54,
   "metadata": {},
   "outputs": [
    {
     "name": "stdout",
     "output_type": "stream",
     "text": [
      "   SepalLengthCm  SepalWidthCm  PetalLengthCm  PetalWidthCm\n",
      "0            4.6           3.2            1.4          0.20\n",
      "1            5.3           3.7            1.5          0.20\n",
      "2            5.0           3.3            1.4          0.22\n",
      "3            6.2           2.9            4.3          1.30\n",
      "4            5.1           2.5            3.0          1.10\n",
      "5            5.7           2.8            4.1          1.30\n",
      "6            6.5           3.0            5.2          2.00\n",
      "7            6.2           3.4            5.4          2.30\n",
      "8            5.9           3.0            5.1          1.80\n",
      "9            4.5           3.1            1.3          0.30\n"
     ]
    }
   ],
   "source": [
    "test_x_df = test_df.iloc[:, 1:test_df.shape[1] - 1]\n",
    "print(test_x_df)"
   ]
  },
  {
   "cell_type": "code",
   "execution_count": 84,
   "metadata": {},
   "outputs": [
    {
     "name": "stdout",
     "output_type": "stream",
     "text": [
      "0        Iris-setosa\n",
      "1        Iris-setosa\n",
      "2        Iris-setosa\n",
      "3    Iris-versicolor\n",
      "4    Iris-versicolor\n",
      "5    Iris-versicolor\n",
      "6     Iris-virginica\n",
      "7     Iris-virginica\n",
      "8     Iris-virginica\n",
      "9        Iris-setosa\n",
      "dtype: object\n"
     ]
    }
   ],
   "source": [
    "test_y_df = test_x_df.apply(lambda test_x_df, train_x_df: knn(\n",
    "    K, train_x_df, test_x_df), axis=1, train_x_df=train_x_df)\n",
    "print(test_y_df)"
   ]
  }
 ],
 "metadata": {
  "interpreter": {
   "hash": "d079999a1d0913a71f8d5b6eddecbf76a979d3a62d4116c9cf1961593761e2bf"
  },
  "kernelspec": {
   "display_name": "Python 3.8.8 ('base')",
   "language": "python",
   "name": "python3"
  },
  "language_info": {
   "codemirror_mode": {
    "name": "ipython",
    "version": 3
   },
   "file_extension": ".py",
   "mimetype": "text/x-python",
   "name": "python",
   "nbconvert_exporter": "python",
   "pygments_lexer": "ipython3",
   "version": "3.8.8"
  },
  "orig_nbformat": 4
 },
 "nbformat": 4,
 "nbformat_minor": 2
}
