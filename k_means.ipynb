{
 "cells": [
  {
   "cell_type": "code",
   "execution_count": 1,
   "id": "6bf7f41d",
   "metadata": {},
   "outputs": [],
   "source": [
    "import numpy as np\n",
    "import matplotlib.pyplot as plt\n",
    "import pandas as pd"
   ]
  },
  {
   "cell_type": "code",
   "execution_count": 2,
   "id": "83c0bc15",
   "metadata": {},
   "outputs": [
    {
     "name": "stdout",
     "output_type": "stream",
     "text": [
      "<class 'pandas.core.frame.DataFrame'>\n",
      "RangeIndex: 151 entries, 0 to 150\n",
      "Data columns (total 6 columns):\n",
      " #   Column         Non-Null Count  Dtype  \n",
      "---  ------         --------------  -----  \n",
      " 0   Id             151 non-null    int64  \n",
      " 1   SepalLengthCm  151 non-null    float64\n",
      " 2   SepalWidthCm   151 non-null    float64\n",
      " 3   PetalLengthCm  151 non-null    float64\n",
      " 4   PetalWidthCm   151 non-null    float64\n",
      " 5   Labels         151 non-null    object \n",
      "dtypes: float64(4), int64(1), object(1)\n",
      "memory usage: 7.2+ KB\n",
      "None\n"
     ]
    }
   ],
   "source": [
    "K_MEANS = 3\n",
    "\n",
    "train_df = pd.read_csv('./K_means/K_means_train.csv')\n",
    "print(train_df.info())"
   ]
  },
  {
   "cell_type": "code",
   "execution_count": 3,
   "id": "4ce27fab",
   "metadata": {},
   "outputs": [
    {
     "name": "stdout",
     "output_type": "stream",
     "text": [
      "     SepalLengthCm  SepalWidthCm  PetalLengthCm  PetalWidthCm   Labels\n",
      "0              5.1           3.5            1.4           0.2  unlabel\n",
      "1              4.9           3.0            1.4           0.2  unlabel\n",
      "2              4.7           3.2            1.3           0.2  unlabel\n",
      "3              4.6           3.1            1.5           0.2  unlabel\n",
      "4              5.0           3.6            1.4           0.2  unlabel\n",
      "..             ...           ...            ...           ...      ...\n",
      "146            6.2           2.9            4.3           1.3  unlabel\n",
      "147            6.3           2.5            5.0           1.9  unlabel\n",
      "148            6.5           3.0            5.2           2.0  unlabel\n",
      "149            6.2           3.4            5.4           2.3  unlabel\n",
      "150            6.3           3.7            5.0           2.1  unlabel\n",
      "\n",
      "[151 rows x 5 columns]\n"
     ]
    }
   ],
   "source": [
    "train_x_df = train_df.iloc[:, 1:]\n",
    "print(train_x_df)"
   ]
  },
  {
   "cell_type": "code",
   "execution_count": 4,
   "id": "487f2388",
   "metadata": {},
   "outputs": [],
   "source": [
    "def initialize_centroids(k, x):\n",
    "   return x.sample(n=k).set_index(pd.Index(range(1, k+1)))\n",
    "\n",
    "def calc_dist(p, q):\n",
    "   return np.linalg.norm(q - p)\n",
    "\n",
    "def calc_closest_centroid(centroids, x_i):\n",
    "   return centroids.apply(lambda centroid_i, x_i: calc_dist(x_i, centroid_i), axis=1, x_i=x_i).idxmin()\n",
    "\n",
    "def calc_clusters(centroids, x):\n",
    "   x['Labels'] = x.apply(lambda x_i, centroids: calc_closest_centroid(\n",
    "       centroids.loc[:, :'PetalWidthCm'], x_i.loc[:'PetalWidthCm']), axis=1, centroids=centroids)\n",
    "   return x\n",
    "\n",
    "def calc_centroids(clusters_df):\n",
    "   return clusters_df.groupby(['Labels']).apply(\n",
    "       lambda cluster: cluster.mean(axis=0)).set_index('Labels')\n",
    "\n",
    "def calc_k_means(k, x):\n",
    "   centroids = initialize_centroids(k, x)\n",
    "   old_clusters_df, clusters_df = None, None\n",
    "\n",
    "   while clusters_df is None or not clusters_df.equals(old_clusters_df):\n",
    "      if clusters_df is not None:\n",
    "         old_clusters_df = clusters_df.copy(deep=True)\n",
    "      clusters_df = calc_clusters(centroids, x)\n",
    "      centroids = calc_centroids(clusters_df)\n",
    "\n",
    "   centroids.index = [f'cluster_{int(idx)}' for idx in centroids.index]\n",
    "   return centroids"
   ]
  },
  {
   "cell_type": "code",
   "execution_count": 18,
   "id": "6fca49f8",
   "metadata": {},
   "outputs": [
    {
     "name": "stdout",
     "output_type": "stream",
     "text": [
      "           SepalLengthCm  SepalWidthCm  PetalLengthCm  PetalWidthCm\n",
      "cluster_1       5.006000      3.418000       1.464000      0.244000\n",
      "cluster_2       6.840000      3.092500       5.697500      2.055000\n",
      "cluster_3       5.883607      2.740984       4.388525      1.434426\n"
     ]
    }
   ],
   "source": [
    "centroids = calc_k_means(K_MEANS, train_x_df)\n",
    "print(centroids)"
   ]
  },
  {
   "cell_type": "code",
   "execution_count": 6,
   "id": "56d43285",
   "metadata": {},
   "outputs": [
    {
     "name": "stdout",
     "output_type": "stream",
     "text": [
      "<class 'pandas.core.frame.DataFrame'>\n",
      "RangeIndex: 6 entries, 0 to 5\n",
      "Data columns (total 6 columns):\n",
      " #   Column         Non-Null Count  Dtype  \n",
      "---  ------         --------------  -----  \n",
      " 0   Id             6 non-null      int64  \n",
      " 1   SepalLengthCm  6 non-null      float64\n",
      " 2   SepalWidthCm   6 non-null      float64\n",
      " 3   PetalLengthCm  6 non-null      float64\n",
      " 4   PetalWidthCm   6 non-null      float64\n",
      " 5   Labels         6 non-null      object \n",
      "dtypes: float64(4), int64(1), object(1)\n",
      "memory usage: 416.0+ bytes\n",
      "None\n"
     ]
    }
   ],
   "source": [
    "valid_df = pd.read_csv('./K_means/K_means_valid.csv')\n",
    "print(valid_df.info())"
   ]
  },
  {
   "cell_type": "code",
   "execution_count": 7,
   "id": "6271ef96",
   "metadata": {},
   "outputs": [
    {
     "name": "stdout",
     "output_type": "stream",
     "text": [
      "   SepalLengthCm  SepalWidthCm  PetalLengthCm  PetalWidthCm     Labels\n",
      "0            4.8           3.0            1.4           0.3  cluster_1\n",
      "1            5.1           3.8            1.6           0.2  cluster_1\n",
      "2            5.1           2.5            3.0           1.1  cluster_2\n",
      "3            5.7           2.8            4.1           1.3  cluster_2\n",
      "4            6.7           3.0            5.2           2.3  cluster_3\n",
      "5            6.7           3.3            5.7           2.5  cluster_3 \n",
      " 0    cluster_1\n",
      "1    cluster_1\n",
      "2    cluster_2\n",
      "3    cluster_2\n",
      "4    cluster_3\n",
      "5    cluster_3\n",
      "Name: Labels, dtype: object\n"
     ]
    }
   ],
   "source": [
    "valid_x_df = valid_df.iloc[:, 1:]\n",
    "valid_y_df = valid_df.loc[:, 'Labels']\n",
    "print(valid_x_df, '\\n', valid_y_df)"
   ]
  },
  {
   "cell_type": "code",
   "execution_count": 19,
   "id": "a025a56a",
   "metadata": {},
   "outputs": [
    {
     "name": "stdout",
     "output_type": "stream",
     "text": [
      "   SepalLengthCm  SepalWidthCm  PetalLengthCm  PetalWidthCm     Labels\n",
      "0            4.8           3.0            1.4           0.3  cluster_1\n",
      "1            5.1           3.8            1.6           0.2  cluster_1\n",
      "2            5.1           2.5            3.0           1.1  cluster_3\n",
      "3            5.7           2.8            4.1           1.3  cluster_3\n",
      "4            6.7           3.0            5.2           2.3  cluster_2\n",
      "5            6.7           3.3            5.7           2.5  cluster_2\n"
     ]
    }
   ],
   "source": [
    "valid_clusters_df = calc_clusters(centroids, valid_x_df)\n",
    "print(valid_clusters_df)"
   ]
  },
  {
   "cell_type": "code",
   "execution_count": 25,
   "id": "72aadba8",
   "metadata": {},
   "outputs": [
    {
     "name": "stdout",
     "output_type": "stream",
     "text": [
      "   value\n",
      "0      0\n",
      "1     21\n",
      "2     17\n",
      "3     21\n",
      "4      0\n",
      "5      0\n"
     ]
    }
   ],
   "source": [
    "def validate(row, check, valid_clusters_df, valid_y_df):\n",
    "   add = 0\n",
    "   if check[valid_clusters_df.loc[row.name, 'Labels']] != valid_y_df[row.name]:\n",
    "      add = 1\n",
    "   return row['value'] + add\n",
    "\n",
    "MAX_ITERS = 100\n",
    "\n",
    "check = {}\n",
    "check_df = pd.DataFrame(0, index=range(6), columns=['value'])\n",
    "for epoch in range(MAX_ITERS):\n",
    "   centroids = calc_k_means(K_MEANS, train_x_df)\n",
    "   valid_clusters_df = calc_clusters(centroids, valid_x_df)\n",
    "\n",
    "   idx = 1\n",
    "   for cluster in valid_clusters_df['Labels'].unique():\n",
    "      check[cluster] = f'cluster_{idx}'\n",
    "      idx += 1\n",
    "   \n",
    "   check_df['value'] = check_df.apply(validate, axis=1, check=check, valid_clusters_df=valid_clusters_df, valid_y_df=valid_y_df)\n",
    "\n",
    "print(check_df)"
   ]
  },
  {
   "cell_type": "code",
   "execution_count": 10,
   "id": "6467c6ba",
   "metadata": {},
   "outputs": [
    {
     "name": "stdout",
     "output_type": "stream",
     "text": [
      "<class 'pandas.core.frame.DataFrame'>\n",
      "RangeIndex: 10 entries, 0 to 9\n",
      "Data columns (total 6 columns):\n",
      " #   Column         Non-Null Count  Dtype  \n",
      "---  ------         --------------  -----  \n",
      " 0   Id             10 non-null     int64  \n",
      " 1   SepalLengthCm  10 non-null     float64\n",
      " 2   SepalWidthCm   10 non-null     float64\n",
      " 3   PetalLengthCm  10 non-null     float64\n",
      " 4   PetalWidthCm   10 non-null     float64\n",
      " 5   labels         10 non-null     object \n",
      "dtypes: float64(4), int64(1), object(1)\n",
      "memory usage: 608.0+ bytes\n",
      "None\n"
     ]
    }
   ],
   "source": [
    "test_df = pd.read_csv('./K_means/K_means_test.csv')\n",
    "print(test_df.info())"
   ]
  },
  {
   "cell_type": "code",
   "execution_count": 11,
   "id": "3eb1353d",
   "metadata": {},
   "outputs": [
    {
     "name": "stdout",
     "output_type": "stream",
     "text": [
      "   SepalLengthCm  SepalWidthCm  PetalLengthCm  PetalWidthCm\n",
      "0            4.6           3.2            1.4           0.2\n",
      "1            5.3           3.7            1.5           0.2\n",
      "2            5.0           3.3            1.4           0.2\n",
      "3            5.7           3.0            4.2           1.2\n",
      "4            5.7           2.9            4.2           1.3\n",
      "5            6.2           2.9            4.3           1.3\n",
      "6            6.3           2.5            5.0           1.9\n",
      "7            6.5           3.0            5.2           2.0\n",
      "8            6.2           3.4            5.4           2.3\n",
      "9            6.3           3.7            5.0           2.1\n"
     ]
    }
   ],
   "source": [
    "test_x_df = test_df.iloc[:, 1:valid_df.shape[0] - 1]\n",
    "print(test_x_df)"
   ]
  },
  {
   "cell_type": "code",
   "execution_count": 12,
   "id": "6fca49f8",
   "metadata": {},
   "outputs": [
    {
     "name": "stdout",
     "output_type": "stream",
     "text": [
      "           SepalLengthCm  SepalWidthCm  PetalLengthCm  PetalWidthCm\n",
      "cluster_1       6.835897      3.089744       5.723077      2.071795\n",
      "cluster_2       5.901613      2.748387       4.393548      1.433871\n",
      "cluster_3       5.006000      3.418000       1.464000      0.244000\n"
     ]
    }
   ],
   "source": [
    "centroids = calc_k_means(K_MEANS, train_x_df)\n",
    "print(centroids)"
   ]
  },
  {
   "cell_type": "code",
   "execution_count": 26,
   "id": "a409de35",
   "metadata": {},
   "outputs": [
    {
     "name": "stdout",
     "output_type": "stream",
     "text": [
      "   SepalLengthCm  SepalWidthCm  PetalLengthCm  PetalWidthCm     Labels\n",
      "0            4.6           3.2            1.4           0.2  cluster_1\n",
      "1            5.3           3.7            1.5           0.2  cluster_1\n",
      "2            5.0           3.3            1.4           0.2  cluster_1\n",
      "3            5.7           3.0            4.2           1.2  cluster_2\n",
      "4            5.7           2.9            4.2           1.3  cluster_2\n",
      "5            6.2           2.9            4.3           1.3  cluster_2\n",
      "6            6.3           2.5            5.0           1.9  cluster_2\n",
      "7            6.5           3.0            5.2           2.0  cluster_3\n",
      "8            6.2           3.4            5.4           2.3  cluster_3\n",
      "9            6.3           3.7            5.0           2.1  cluster_3\n"
     ]
    }
   ],
   "source": [
    "test_clusters_df = calc_clusters(centroids, test_x_df)\n",
    "print(test_clusters_df)"
   ]
  },
  {
   "cell_type": "code",
   "execution_count": null,
   "id": "33d944d0",
   "metadata": {},
   "outputs": [],
   "source": []
  }
 ],
 "metadata": {
  "kernelspec": {
   "display_name": "Python 3",
   "language": "python",
   "name": "python3"
  },
  "language_info": {
   "codemirror_mode": {
    "name": "ipython",
    "version": 3
   },
   "file_extension": ".py",
   "mimetype": "text/x-python",
   "name": "python",
   "nbconvert_exporter": "python",
   "pygments_lexer": "ipython3",
   "version": "3.9.7"
  }
 },
 "nbformat": 4,
 "nbformat_minor": 5
}
