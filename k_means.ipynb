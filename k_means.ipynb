{
 "cells": [
  {
   "cell_type": "code",
   "execution_count": 1,
   "id": "6bf7f41d",
   "metadata": {},
   "outputs": [],
   "source": [
    "import numpy as np\n",
    "import matplotlib.pyplot as plt\n",
    "import pandas as pd"
   ]
  },
  {
   "cell_type": "code",
   "execution_count": 2,
   "id": "83c0bc15",
   "metadata": {},
   "outputs": [
    {
     "name": "stdout",
     "output_type": "stream",
     "text": [
      "<class 'pandas.core.frame.DataFrame'>\n",
      "RangeIndex: 151 entries, 0 to 150\n",
      "Data columns (total 6 columns):\n",
      " #   Column         Non-Null Count  Dtype  \n",
      "---  ------         --------------  -----  \n",
      " 0   Id             151 non-null    int64  \n",
      " 1   SepalLengthCm  151 non-null    float64\n",
      " 2   SepalWidthCm   151 non-null    float64\n",
      " 3   PetalLengthCm  151 non-null    float64\n",
      " 4   PetalWidthCm   151 non-null    float64\n",
      " 5   Labels         151 non-null    object \n",
      "dtypes: float64(4), int64(1), object(1)\n",
      "memory usage: 7.2+ KB\n",
      "None\n"
     ]
    }
   ],
   "source": [
    "K_MEANS = 3\n",
    "\n",
    "train_df = pd.read_csv('./K_means/K_means_train.csv')\n",
    "print(train_df.info())"
   ]
  },
  {
   "cell_type": "code",
   "execution_count": 3,
   "id": "4ce27fab",
   "metadata": {},
   "outputs": [
    {
     "name": "stdout",
     "output_type": "stream",
     "text": [
      "     SepalLengthCm  SepalWidthCm  PetalLengthCm  PetalWidthCm   Labels\n",
      "0              5.1           3.5            1.4           0.2  unlabel\n",
      "1              4.9           3.0            1.4           0.2  unlabel\n",
      "2              4.7           3.2            1.3           0.2  unlabel\n",
      "3              4.6           3.1            1.5           0.2  unlabel\n",
      "4              5.0           3.6            1.4           0.2  unlabel\n",
      "..             ...           ...            ...           ...      ...\n",
      "146            6.2           2.9            4.3           1.3  unlabel\n",
      "147            6.3           2.5            5.0           1.9  unlabel\n",
      "148            6.5           3.0            5.2           2.0  unlabel\n",
      "149            6.2           3.4            5.4           2.3  unlabel\n",
      "150            6.3           3.7            5.0           2.1  unlabel\n",
      "\n",
      "[151 rows x 5 columns]\n"
     ]
    }
   ],
   "source": [
    "# exclude Id row since pandas df has automatic indexing\n",
    "train_x_df = train_df.iloc[:, 1:]\n",
    "print(train_x_df)"
   ]
  },
  {
   "cell_type": "code",
   "execution_count": 4,
   "id": "487f2388",
   "metadata": {},
   "outputs": [],
   "source": [
    "# randomly initialize centroids by picking K rows from data set\n",
    "def initialize_centroids(k, x):\n",
    "   return x.sample(n=k).set_index(pd.Index(range(1, k+1)))\n",
    "\n",
    "# Euclidean distance compute method\n",
    "def calc_dist(p, q):\n",
    "   return np.linalg.norm(q - p)\n",
    "\n",
    "# calculate the closest centroid for a given data row\n",
    "def calc_closest_centroid(centroids, x_i):\n",
    "   return centroids.apply(lambda centroid_i, x_i: calc_dist(x_i, centroid_i), axis=1, x_i=x_i).idxmin()\n",
    "\n",
    "# calculate clusters for data set given set of centroids\n",
    "def calc_clusters(centroids, x):\n",
    "   # calculate closest centroid for each row of data\n",
    "   x['Labels'] = x.apply(lambda x_i, centroids, cols: calc_closest_centroid(\n",
    "       centroids.iloc[:, :cols], x_i.iloc[:cols]), axis=1, centroids=centroids, cols=x.shape[1]-1)\n",
    "   return x\n",
    "\n",
    "# calculate centroids based on given clustering\n",
    "def calc_centroids(clusters_df):\n",
    "   return clusters_df.groupby(['Labels']).apply(\n",
    "       lambda cluster: cluster.mean(axis=0)).set_index('Labels')\n",
    "\n",
    "# main method for calculating k-means, following algorithm\n",
    "def calc_k_means(k, x):\n",
    "   centroids = initialize_centroids(k, x)\n",
    "   old_clusters_df, clusters_df = None, None\n",
    "\n",
    "   # loop until convergence\n",
    "   while clusters_df is None or not clusters_df.equals(old_clusters_df):\n",
    "      if clusters_df is not None:\n",
    "         old_clusters_df = clusters_df.copy(deep=True)\n",
    "      # compute clusters using centroids from last iteration (or initialization)\n",
    "      clusters_df = calc_clusters(centroids, x)\n",
    "      # re-compute centroids based on new clusters\n",
    "      centroids = calc_centroids(clusters_df)\n",
    "\n",
    "   centroids.index = [f'cluster_{int(idx)}' for idx in centroids.index]\n",
    "   return centroids"
   ]
  },
  {
   "cell_type": "code",
   "execution_count": 5,
   "id": "6fca49f8",
   "metadata": {},
   "outputs": [
    {
     "name": "stdout",
     "output_type": "stream",
     "text": [
      "           SepalLengthCm  SepalWidthCm  PetalLengthCm  PetalWidthCm\n",
      "cluster_1       6.835897      3.089744       5.723077      2.071795\n",
      "cluster_2       5.901613      2.748387       4.393548      1.433871\n",
      "cluster_3       5.006000      3.418000       1.464000      0.244000\n"
     ]
    }
   ],
   "source": [
    "# compute k-means clusters using training data\n",
    "centroids = calc_k_means(K_MEANS, train_x_df)\n",
    "print(centroids)"
   ]
  },
  {
   "cell_type": "code",
   "execution_count": 6,
   "id": "56d43285",
   "metadata": {},
   "outputs": [
    {
     "name": "stdout",
     "output_type": "stream",
     "text": [
      "<class 'pandas.core.frame.DataFrame'>\n",
      "RangeIndex: 6 entries, 0 to 5\n",
      "Data columns (total 6 columns):\n",
      " #   Column         Non-Null Count  Dtype  \n",
      "---  ------         --------------  -----  \n",
      " 0   Id             6 non-null      int64  \n",
      " 1   SepalLengthCm  6 non-null      float64\n",
      " 2   SepalWidthCm   6 non-null      float64\n",
      " 3   PetalLengthCm  6 non-null      float64\n",
      " 4   PetalWidthCm   6 non-null      float64\n",
      " 5   Labels         6 non-null      object \n",
      "dtypes: float64(4), int64(1), object(1)\n",
      "memory usage: 416.0+ bytes\n",
      "None\n"
     ]
    }
   ],
   "source": [
    "valid_df = pd.read_csv('./K_means/K_means_valid.csv')\n",
    "print(valid_df.info())"
   ]
  },
  {
   "cell_type": "code",
   "execution_count": 7,
   "id": "6271ef96",
   "metadata": {},
   "outputs": [
    {
     "name": "stdout",
     "output_type": "stream",
     "text": [
      "   SepalLengthCm  SepalWidthCm  PetalLengthCm  PetalWidthCm     Labels\n",
      "0            4.8           3.0            1.4           0.3  cluster_1\n",
      "1            5.1           3.8            1.6           0.2  cluster_1\n",
      "2            5.1           2.5            3.0           1.1  cluster_2\n",
      "3            5.7           2.8            4.1           1.3  cluster_2\n",
      "4            6.7           3.0            5.2           2.3  cluster_3\n",
      "5            6.7           3.3            5.7           2.5  cluster_3\n",
      "0    cluster_1\n",
      "1    cluster_1\n",
      "2    cluster_2\n",
      "3    cluster_2\n",
      "4    cluster_3\n",
      "5    cluster_3\n",
      "Name: Labels, dtype: object\n"
     ]
    }
   ],
   "source": [
    "valid_x_df = valid_df.iloc[:, 1:]\n",
    "valid_y_df = valid_df.loc[:, 'Labels']\n",
    "print(valid_x_df)\n",
    "print(valid_y_df)"
   ]
  },
  {
   "cell_type": "code",
   "execution_count": 8,
   "id": "72aadba8",
   "metadata": {},
   "outputs": [
    {
     "name": "stdout",
     "output_type": "stream",
     "text": [
      "   SepalLengthCm  SepalWidthCm  PetalLengthCm  PetalWidthCm     Labels\n",
      "0            4.8           3.0            1.4           0.3  cluster_3\n",
      "1            5.1           3.8            1.6           0.2  cluster_3\n",
      "2            5.1           2.5            3.0           1.1  cluster_2\n",
      "3            5.7           2.8            4.1           1.3  cluster_2\n",
      "4            6.7           3.0            5.2           2.3  cluster_1\n",
      "5            6.7           3.3            5.7           2.5  cluster_1\n"
     ]
    }
   ],
   "source": [
    "# use validation data to calculate clusters\n",
    "valid_clusters_df = calc_clusters(centroids, valid_x_df)\n",
    "# visually compare computed labels with validation labels\n",
    "print(valid_clusters_df)"
   ]
  },
  {
   "cell_type": "code",
   "execution_count": 9,
   "id": "6467c6ba",
   "metadata": {},
   "outputs": [
    {
     "name": "stdout",
     "output_type": "stream",
     "text": [
      "<class 'pandas.core.frame.DataFrame'>\n",
      "RangeIndex: 10 entries, 0 to 9\n",
      "Data columns (total 6 columns):\n",
      " #   Column         Non-Null Count  Dtype  \n",
      "---  ------         --------------  -----  \n",
      " 0   Id             10 non-null     int64  \n",
      " 1   SepalLengthCm  10 non-null     float64\n",
      " 2   SepalWidthCm   10 non-null     float64\n",
      " 3   PetalLengthCm  10 non-null     float64\n",
      " 4   PetalWidthCm   10 non-null     float64\n",
      " 5   labels         10 non-null     object \n",
      "dtypes: float64(4), int64(1), object(1)\n",
      "memory usage: 608.0+ bytes\n",
      "None\n"
     ]
    }
   ],
   "source": [
    "test_df = pd.read_csv('./K_means/K_means_test.csv')\n",
    "print(test_df.info())"
   ]
  },
  {
   "cell_type": "code",
   "execution_count": 10,
   "id": "3eb1353d",
   "metadata": {},
   "outputs": [
    {
     "name": "stdout",
     "output_type": "stream",
     "text": [
      "   SepalLengthCm  SepalWidthCm  PetalLengthCm  PetalWidthCm\n",
      "0            4.6           3.2            1.4           0.2\n",
      "1            5.3           3.7            1.5           0.2\n",
      "2            5.0           3.3            1.4           0.2\n",
      "3            5.7           3.0            4.2           1.2\n",
      "4            5.7           2.9            4.2           1.3\n",
      "5            6.2           2.9            4.3           1.3\n",
      "6            6.3           2.5            5.0           1.9\n",
      "7            6.5           3.0            5.2           2.0\n",
      "8            6.2           3.4            5.4           2.3\n",
      "9            6.3           3.7            5.0           2.1\n"
     ]
    }
   ],
   "source": [
    "test_x_df = test_df.iloc[:, 1:test_df.shape[1] - 1]\n",
    "print(test_x_df)"
   ]
  },
  {
   "cell_type": "code",
   "execution_count": 11,
   "id": "a409de35",
   "metadata": {},
   "outputs": [
    {
     "name": "stdout",
     "output_type": "stream",
     "text": [
      "   SepalLengthCm  SepalWidthCm  PetalLengthCm  PetalWidthCm     Labels\n",
      "0            4.6           3.2            1.4           0.2  cluster_3\n",
      "1            5.3           3.7            1.5           0.2  cluster_3\n",
      "2            5.0           3.3            1.4           0.2  cluster_3\n",
      "3            5.7           3.0            4.2           1.2  cluster_2\n",
      "4            5.7           2.9            4.2           1.3  cluster_2\n",
      "5            6.2           2.9            4.3           1.3  cluster_2\n",
      "6            6.3           2.5            5.0           1.9  cluster_2\n",
      "7            6.5           3.0            5.2           2.0  cluster_1\n",
      "8            6.2           3.4            5.4           2.3  cluster_1\n",
      "9            6.3           3.7            5.0           2.1  cluster_1\n"
     ]
    }
   ],
   "source": [
    "test_clusters_df = calc_clusters(centroids, test_x_df)\n",
    "print(test_clusters_df)"
   ]
  },
  {
   "cell_type": "code",
   "execution_count": 12,
   "id": "33d944d0",
   "metadata": {},
   "outputs": [],
   "source": [
    "from sklearn.manifold import TSNE\n",
    "import seaborn as sns"
   ]
  },
  {
   "cell_type": "code",
   "execution_count": 13,
   "id": "ed420380",
   "metadata": {},
   "outputs": [
    {
     "name": "stdout",
     "output_type": "stream",
     "text": [
      "     SepalLengthCm  SepalWidthCm  PetalLengthCm  PetalWidthCm     Labels\n",
      "0              5.1           3.5            1.4           0.2  cluster_3\n",
      "1              4.9           3.0            1.4           0.2  cluster_3\n",
      "2              4.7           3.2            1.3           0.2  cluster_3\n",
      "3              4.6           3.1            1.5           0.2  cluster_3\n",
      "4              5.0           3.6            1.4           0.2  cluster_3\n",
      "..             ...           ...            ...           ...        ...\n",
      "156            6.2           2.9            4.3           1.3  cluster_2\n",
      "157            6.3           2.5            5.0           1.9  cluster_2\n",
      "158            6.5           3.0            5.2           2.0  cluster_1\n",
      "159            6.2           3.4            5.4           2.3  cluster_1\n",
      "160            6.3           3.7            5.0           2.1  cluster_1\n",
      "\n",
      "[161 rows x 5 columns]\n"
     ]
    }
   ],
   "source": [
    "train_clusters_df = calc_clusters(centroids, train_x_df)\n",
    "# combine training data clusters with test data clusters\n",
    "tsne_df = train_clusters_df.append(test_clusters_df).reset_index().drop(columns=['index'])\n",
    "print(tsne_df)"
   ]
  },
  {
   "cell_type": "code",
   "execution_count": 14,
   "id": "4fbfa815",
   "metadata": {},
   "outputs": [
    {
     "name": "stdout",
     "output_type": "stream",
     "text": [
      "             x          y    species\n",
      "160  -7.366347   3.342569  cluster_1\n",
      "122  -9.704874   4.293253  cluster_1\n",
      "121 -12.865875   1.750458  cluster_1\n",
      "120 -11.480424   1.313946  cluster_1\n",
      "119 -10.835701   1.520998  cluster_1\n",
      "..         ...        ...        ...\n",
      "22   15.554276 -10.518478  cluster_3\n",
      "21   18.969955  -9.995660  cluster_3\n",
      "20   19.954098 -11.160086  cluster_3\n",
      "31   19.740452 -11.101984  cluster_3\n",
      "0    18.356691 -10.684797  cluster_3\n",
      "\n",
      "[161 rows x 3 columns]\n"
     ]
    }
   ],
   "source": [
    "model = TSNE(learning_rate=50)\n",
    "\n",
    "# keep just the numeric values of the TSNE dataframe\n",
    "tsne_clusters_numeric = tsne_df.sort_values(by='Labels').drop('Labels', axis=1)\n",
    "# train the TSNE model based on the numeric TSNE dataframe\n",
    "tsne_features = model.fit_transform(tsne_clusters_numeric)\n",
    "\n",
    "# make a new dataframe containing the features computed by the TSNE model\n",
    "tsne_clusters_df = pd.DataFrame(\n",
    "    {'x': tsne_features[:, 0], 'y': tsne_features[:, 1], 'species': tsne_df['Labels'].sort_values()})\n",
    "print(tsne_clusters_df)"
   ]
  },
  {
   "cell_type": "code",
   "execution_count": 15,
   "id": "924c93d8",
   "metadata": {},
   "outputs": [
    {
     "data": {
      "image/png": "[encoded data removed]",
      "text/plain": [
       "<Figure size 432x288 with 1 Axes>"
      ]
     },
     "metadata": {
      "needs_background": "light"
     },
     "output_type": "display_data"
    }
   ],
   "source": [
    "# create seaborn scatterplot\n",
    "sns.scatterplot(x='x', y='y', hue='species', data=tsne_clusters_df)\n",
    "plt.show()"
   ]
  }
 ],
 "metadata": {
  "kernelspec": {
   "display_name": "Python 3",
   "language": "python",
   "name": "python3"
  },
  "language_info": {
   "codemirror_mode": {
    "name": "ipython",
    "version": 3
   },
   "file_extension": ".py",
   "mimetype": "text/x-python",
   "name": "python",
   "nbconvert_exporter": "python",
   "pygments_lexer": "ipython3",
   "version": "3.8.8"
  }
 },
 "nbformat": 4,
 "nbformat_minor": 5
}
